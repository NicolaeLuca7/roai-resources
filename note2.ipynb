{
 "cells": [
  {
   "cell_type": "code",
   "execution_count": null,
   "metadata": {},
   "outputs": [],
   "source": [
    "import io\n",
    "from PIL import Image\n",
    "import torch\n",
    "import numpy as np\n",
    "import torchvision\n",
    "import matplotlib.pyplot as plt\n",
    "import json\n",
    "import torch.utils.data as tdata\n",
    "from tqdm import tqdm\n",
    "from torch import optim \n",
    "import torch.nn as nn\n",
    "\n",
    "from transformers.models.detr.feature_extraction_detr import rgb_to_id\n",
    "from transformers import AutoImageProcessor, AutoModelForImageClassification"
   ]
  },
  {
   "cell_type": "code",
   "execution_count": null,
   "metadata": {},
   "outputs": [],
   "source": [
    "#%pip install -qq -U diffusers datasets transformers accelerate ftfy \n",
    "\n",
    "#%pip install torch torchvision torchaudio --index-url https://download.pytorch.org/whl/cu121\n",
    "\n",
    "#%pip install timm"
   ]
  },
  {
   "cell_type": "code",
   "execution_count": null,
   "metadata": {},
   "outputs": [],
   "source": [
    "seed_value = 7\n",
    "torch.manual_seed(seed_value)\n",
    "if torch.cuda.is_available():\n",
    "  torch.cuda.manual_seed(seed_value)\n",
    "  torch.cuda.manual_seed_all(seed_value)\n",
    "np.random.seed(seed_value)"
   ]
  },
  {
   "cell_type": "code",
   "execution_count": null,
   "metadata": {},
   "outputs": [],
   "source": [
    "device= torch.device(\"cuda:0\")\n",
    "device"
   ]
  },
  {
   "cell_type": "code",
   "execution_count": null,
   "metadata": {},
   "outputs": [],
   "source": [
    "SIZE=640"
   ]
  },
  {
   "cell_type": "code",
   "execution_count": null,
   "metadata": {},
   "outputs": [],
   "source": [
    "\n",
    "processor = AutoImageProcessor.from_pretrained(\"RavenOnur/Sign-Language\")\n",
    "model = AutoModelForImageClassification.from_pretrained(\"RavenOnur/Sign-Language\").to(device)"
   ]
  },
  {
   "cell_type": "code",
   "execution_count": null,
   "metadata": {},
   "outputs": [],
   "source": [
    "from datasets import load_dataset\n",
    "\n",
    "dataset = load_dataset(\"Francesco/sign-language-sokdr\")"
   ]
  },
  {
   "cell_type": "code",
   "execution_count": 131,
   "metadata": {},
   "outputs": [],
   "source": [
    "class Dataset(tdata.Dataset):\n",
    "    def __init__(self,dataset,processor):\n",
    "        self.processor=processor\n",
    "\n",
    "        self.image=[]\n",
    "        self.type=[]\n",
    "        for id in range(len(dataset['image'])):\n",
    "            if dataset['objects'][id]['category'][0] <25:\n",
    "                self.image.append(dataset['image'][id])\n",
    "                self.type.append(dataset['objects'][id]['category'][0]-1)\n",
    "        self.len=len(self.image)\n",
    "    \n",
    "    def __getitem__(self, id):\n",
    "        return  torch.from_numpy(np.array(self.image[id])).to(device),torch.tensor(self.type[id]).to(device)\n",
    "    \n",
    "\n",
    "    def __len__(self):\n",
    "        return self.len\n",
    "    \n"
   ]
  },
  {
   "cell_type": "code",
   "execution_count": 132,
   "metadata": {},
   "outputs": [],
   "source": [
    "train_set=Dataset(dataset['train'][0:504],processor=processor)\n",
    "\n",
    "train_data=tdata.DataLoader(train_set,batch_size=4)\n",
    "np.see"
   ]
  },
  {
   "cell_type": "code",
   "execution_count": null,
   "metadata": {},
   "outputs": [],
   "source": [
    "x=processor(dataset['train']['image'][70], return_tensors=\"pt\")\n",
    "y=model(x['pixel_values'].to(device))\n"
   ]
  },
  {
   "cell_type": "code",
   "execution_count": 118,
   "metadata": {},
   "outputs": [],
   "source": [
    "optimize=optim.Adam(model.parameters(),lr=0.001)\n",
    "\n",
    "criterion=nn.CrossEntropyLoss()"
   ]
  },
  {
   "cell_type": "code",
   "execution_count": 137,
   "metadata": {},
   "outputs": [
    {
     "name": "stderr",
     "output_type": "stream",
     "text": [
      "100%|██████████| 10/10 [02:48<00:00, 16.80s/it]\n"
     ]
    },
    {
     "data": {
      "image/png": "[encoded data removed]",
      "text/plain": [
       "<Figure size 640x480 with 1 Axes>"
      ]
     },
     "metadata": {},
     "output_type": "display_data"
    }
   ],
   "source": [
    "EPOCH=[]\n",
    "LOSS=[]\n",
    "\n",
    "for epoch in tqdm(range(10)):\n",
    "    model.train()\n",
    "    tloss=0\n",
    "    for x,y in train_data:\n",
    "        optimize.zero_grad()\n",
    "        input=processor(images=x, return_tensors=\"pt\")\n",
    "        py=model(input['pixel_values'].to(device))\n",
    "        loss=criterion(py.logits,y)\n",
    "        loss.backward()\n",
    "        optimize.step()\n",
    "\n",
    "        tloss+=loss.item()\n",
    "\n",
    "    EPOCH.append(epoch)\n",
    "    LOSS.append(tloss)\n",
    "\n",
    "plt.plot(EPOCH,LOSS)\n",
    "plt.show()"
   ]
  }
 ],
 "metadata": {
  "kernelspec": {
   "display_name": ".venv",
   "language": "python",
   "name": "python3"
  },
  "language_info": {
   "codemirror_mode": {
    "name": "ipython",
    "version": 3
   },
   "file_extension": ".py",
   "mimetype": "text/x-python",
   "name": "python",
   "nbconvert_exporter": "python",
   "pygments_lexer": "ipython3",
   "version": "3.11.4"
  }
 },
 "nbformat": 4,
 "nbformat_minor": 2
}
